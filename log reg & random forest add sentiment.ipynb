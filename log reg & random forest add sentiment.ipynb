{
 "cells": [
  {
   "cell_type": "code",
   "execution_count": 21,
   "id": "23f1af12-0c28-429c-94d5-957171886ac2",
   "metadata": {},
   "outputs": [],
   "source": [
    "import json\n",
    "from collections import defaultdict\n",
    "import random\n",
    "import string\n",
    "import numpy as np\n",
    "import operator\n",
    "import math\n",
    "import re\n",
    "import gzip\n",
    "from sklearn.linear_model import LogisticRegression\n",
    "from sklearn.ensemble import RandomForestClassifier\n",
    "from sklearn.model_selection import GridSearchCV\n",
    "import pandas as pd\n",
    "import csv"
   ]
  },
  {
   "cell_type": "code",
   "execution_count": 2,
   "id": "d35c93bb-83c0-471e-8b7d-8b8ed2c45546",
   "metadata": {},
   "outputs": [],
   "source": [
    "# I use gz file so next cell\n",
    "data =[]\n",
    "\n",
    "with open('renttherunway_final_data.json', 'r') as file:\n",
    "    for line in file:\n",
    "        line_data = json.loads(line)\n",
    "        data.append(line_data)\n"
   ]
  },
  {
   "cell_type": "code",
   "execution_count": 201,
   "id": "6e5dcb24-e542-4aed-9edc-5af1ea427994",
   "metadata": {},
   "outputs": [],
   "source": [
    "\n",
    "def readGz(path):\n",
    "    for l in gzip.open(path, 'rt', encoding='utf-8'):\n",
    "        if 'null' not in l:\n",
    "            yield eval(l)\n",
    "data = list(readGz(\"renttherunway_final_data.json.gz\"))\n",
    "for index, item in enumerate(data, start=1):\n",
    "    item['unique_id'] = index\n",
    "df = pd.read_csv('rent_sentiment.csv')\n",
    "\n"
   ]
  },
  {
   "cell_type": "code",
   "execution_count": 202,
   "id": "6a3596a5",
   "metadata": {},
   "outputs": [],
   "source": [
    "df['unique_id'] = range(1, 192463)"
   ]
  },
  {
   "cell_type": "code",
   "execution_count": 206,
   "id": "611c7249",
   "metadata": {},
   "outputs": [],
   "source": [
    "# I use this cell to drop na\n",
    "data = pd.DataFrame(data)\n",
    "merged_df = pd.merge(data, df[['unique_id','nltk_sentiment_compound_score','nltk_sentiment_compound_score_summary']], on='unique_id', how='left')\n",
    "merged_df = merged_df.dropna()\n",
    "clean_data = merged_df.to_dict(orient='records')\n"
   ]
  },
  {
   "cell_type": "code",
   "execution_count": 204,
   "id": "9901cf53-62ee-4b4a-8d64-0b3742faba88",
   "metadata": {},
   "outputs": [],
   "source": [
    "# drop rows that have incomplete columns \n",
    "clean_data = []\n",
    "for d in merged_df:\n",
    "    if len(d) == 19:\n",
    "        clean_data.append(d)"
   ]
  },
  {
   "cell_type": "code",
   "execution_count": null,
   "id": "04624a9a",
   "metadata": {},
   "outputs": [],
   "source": []
  },
  {
   "cell_type": "code",
   "execution_count": 207,
   "id": "157013d5-012a-4500-9cf3-13a4266e71bb",
   "metadata": {},
   "outputs": [
    {
     "name": "stdout",
     "output_type": "stream",
     "text": [
      "146381\n",
      "{'fit': 'fit', 'user_id': '420272', 'bust size': '34d', 'item_id': '2260466', 'weight': '137lbs', 'rating': '10', 'rented for': 'vacation', 'review_text': \"An adorable romper! Belt and zipper were a little hard to navigate in a full day of wear/bathroom use, but that's to be expected. Wish it had pockets, but other than that-- absolutely perfect! I got a million compliments.\", 'body type': 'hourglass', 'review_summary': 'So many compliments!', 'category': 'romper', 'height': '5\\' 8\"', 'size': 14, 'age': '28', 'review_date': 'April 20, 2016', 'unique_id': 1, 'nltk_sentiment_compound_score': 0.9453, 'nltk_sentiment_compound_score_summary': 0.5057}\n"
     ]
    }
   ],
   "source": [
    "print(len(clean_data))\n",
    "print(clean_data[0])"
   ]
  },
  {
   "cell_type": "code",
   "execution_count": null,
   "id": "48a08308",
   "metadata": {},
   "outputs": [],
   "source": []
  },
  {
   "cell_type": "code",
   "execution_count": 142,
   "id": "b8623cc6-ff02-430d-8b6f-296d398661e3",
   "metadata": {},
   "outputs": [],
   "source": [
    "# train, val, test split\n",
    "random.seed(7)\n",
    "random.shuffle(clean_data)\n",
    "\n",
    "train_data = clean_data[:int(0.8*len(clean_data))]\n",
    "valid_data = clean_data[int(0.8*len(clean_data)):int(0.9*len(clean_data))]\n",
    "test_data = clean_data[int(0.9*len(clean_data)):]"
   ]
  },
  {
   "cell_type": "code",
   "execution_count": null,
   "id": "38ae16da-aab1-4983-b983-18fa8b833119",
   "metadata": {},
   "outputs": [],
   "source": []
  },
  {
   "cell_type": "code",
   "execution_count": 189,
   "id": "a9dd2aa6-8b20-4d5a-a612-781efee193a2",
   "metadata": {},
   "outputs": [],
   "source": [
    "def feature(d):\n",
    "    f = [1]  #offset\n",
    "\n",
    "    size = d['size']\n",
    "    f.append(size)\n",
    "    \n",
    "    height_transform = re.findall(r'\\d+', d['height'])\n",
    "    height = int(height_transform[0]) * 12 + int(height_transform[1])\n",
    "    f.append(height)\n",
    "\n",
    "    weight = int(d['weight'][:-3])\n",
    "    f.append(weight)\n",
    "    \n",
    "    bust = int(d['bust size'][:2])\n",
    "    f.append(bust)\n",
    "    cup = ord(d['bust size'][2])\n",
    "    f.append(cup)\n",
    "\n",
    "    age = int(d['age'])\n",
    "    f.append(age)\n",
    "    \n",
    "    \n",
    "    \n",
    "    # one-hot encoding for rented for and body type\n",
    "    rented_for_dict = {'date':0, 'everyday':1, 'formal affair':2, 'other':3, 'party':4, 'party: cocktail':5, 'vacation':6, 'wedding':7, 'work':8}\n",
    "    f.append(1.0 * (d['rented for'] == 'date'))\n",
    "    f.append(1.0 * (d['rented for'] == 'everyday'))\n",
    "    f.append(1.0 * (d['rented for'] == 'formal affair'))\n",
    "    f.append(1.0 * (d['rented for'] == 'other'))\n",
    "    f.append(1.0 * (d['rented for'] == 'party'))\n",
    "    f.append(1.0 * (d['rented for'] == 'party: cocktail'))\n",
    "    f.append(1.0 * (d['rented for'] == 'vacation'))\n",
    "    f.append(1.0 * (d['rented for'] == 'wedding'))\n",
    "    f.append(1.0 * (d['rented for'] == 'work'))\n",
    "    \n",
    "    body_type_dict = {'apple':0, 'athletic':1, 'full bust':2, 'hourglass':3, 'pear':4, 'petite':5, 'straight & narrow':6}\n",
    "    f.append(1.0 * (d[\"body type\"] == 'apple'))\n",
    "    f.append(1.0 * (d[\"body type\"] == 'athletic'))\n",
    "    f.append(1.0 * (d[\"body type\"] == 'full bust'))\n",
    "    f.append(1.0 * (d[\"body type\"] == 'hourglass'))\n",
    "    f.append(1.0 * (d[\"body type\"] == 'pear'))\n",
    "    f.append(1.0 * (d[\"body type\"] == 'petite'))\n",
    "    f.append(1.0 * (d[\"body type\"] == 'straight & narrow'))\n",
    "    \n",
    "\n",
    "    ### add more features?\n",
    "    ### processed review_text prediction results?\n",
    "    ### e.g. f.append(sentiment_model.predict(d[\"review_text\"]))\n",
    "\n",
    "    f.append(d[\"nltk_sentiment_compound_score\"])\n",
    "    f.append(d[\"nltk_sentiment_compound_score_summary\"])\n",
    "    # label: change 3 categories to \n",
    "    if d['fit'] == 'fit':\n",
    "        label = 1\n",
    "    else:\n",
    "        label = 0      # not fit\n",
    "\n",
    "    return f, label\n",
    "\n",
    "    "
   ]
  },
  {
   "cell_type": "code",
   "execution_count": 190,
   "id": "6ba9782d-28e3-4986-a480-09e48d85d959",
   "metadata": {},
   "outputs": [],
   "source": [
    "train_X = []\n",
    "train_Y = []\n",
    "for d in train_data:\n",
    "    x, y = feature(d)\n",
    "    train_X.append(x)\n",
    "    train_Y.append(y)\n",
    "\n",
    "valid_X = []\n",
    "valid_Y = []\n",
    "for d in valid_data:\n",
    "    x, y = feature(d)\n",
    "    valid_X.append(x)\n",
    "    valid_Y.append(y)\n",
    "\n",
    "\n",
    "test_X = []\n",
    "test_Y = []\n",
    "for d in test_data:\n",
    "    x, y = feature(d)\n",
    "    test_X.append(x)\n",
    "    test_Y.append(y)\n"
   ]
  },
  {
   "cell_type": "code",
   "execution_count": 191,
   "id": "bcd9829d",
   "metadata": {},
   "outputs": [],
   "source": [
    "def calculate_accuracy(y, pred):\n",
    "    return sum([a==b for a, b in zip(y, pred)]) / len(y)"
   ]
  },
  {
   "cell_type": "code",
   "execution_count": null,
   "id": "cf7436cc-3797-4481-8379-ed80c659ee1b",
   "metadata": {},
   "outputs": [],
   "source": []
  },
  {
   "cell_type": "code",
   "execution_count": 192,
   "id": "17117232-aa8c-491a-8b64-200e7be4396e",
   "metadata": {},
   "outputs": [],
   "source": [
    "### logistic regression"
   ]
  },
  {
   "cell_type": "code",
   "execution_count": 193,
   "id": "5a49cbea-7ff3-4816-87c0-0778010b3e54",
   "metadata": {},
   "outputs": [
    {
     "name": "stderr",
     "output_type": "stream",
     "text": [
      "/opt/conda/lib/python3.9/site-packages/sklearn/linear_model/_logistic.py:763: ConvergenceWarning: lbfgs failed to converge (status=1):\n",
      "STOP: TOTAL NO. of ITERATIONS REACHED LIMIT.\n",
      "\n",
      "Increase the number of iterations (max_iter) or scale the data as shown in:\n",
      "    https://scikit-learn.org/stable/modules/preprocessing.html\n",
      "Please also refer to the documentation for alternative solver options:\n",
      "    https://scikit-learn.org/stable/modules/linear_model.html#logistic-regression\n",
      "  n_iter_i = _check_optimize_result(\n"
     ]
    },
    {
     "data": {
      "text/plain": [
       "LogisticRegression(C=1)"
      ]
     },
     "execution_count": 193,
     "metadata": {},
     "output_type": "execute_result"
    }
   ],
   "source": [
    "lr_mod = LogisticRegression(C=1)\n",
    "lr_mod.fit(train_X, train_Y)\n",
    "\n"
   ]
  },
  {
   "cell_type": "code",
   "execution_count": 194,
   "id": "4c228759-905f-4b40-acae-74a1994bae48",
   "metadata": {},
   "outputs": [],
   "source": [
    "lr_predictions = lr_mod.predict(test_X)\n",
    "lr_accuracy = calculate_accuracy(test_Y, lr_predictions)\n"
   ]
  },
  {
   "cell_type": "code",
   "execution_count": 195,
   "id": "c61e054c-1893-4c41-be78-95c87812e95b",
   "metadata": {},
   "outputs": [
    {
     "data": {
      "text/plain": [
       "0.739736320786939"
      ]
     },
     "execution_count": 195,
     "metadata": {},
     "output_type": "execute_result"
    }
   ],
   "source": [
    "lr_accuracy"
   ]
  },
  {
   "cell_type": "code",
   "execution_count": null,
   "id": "8f7500fc",
   "metadata": {},
   "outputs": [],
   "source": [
    "# no sentiment 0.7391215246943097"
   ]
  },
  {
   "cell_type": "code",
   "execution_count": null,
   "id": "149148ad",
   "metadata": {},
   "outputs": [],
   "source": [
    "# review summary sentiment 0.7390532140173509"
   ]
  },
  {
   "cell_type": "code",
   "execution_count": null,
   "id": "272db002",
   "metadata": {},
   "outputs": [],
   "source": [
    "# review text sentiment 0.7392581460482274"
   ]
  },
  {
   "cell_type": "code",
   "execution_count": null,
   "id": "91354ae5",
   "metadata": {},
   "outputs": [],
   "source": [
    "# both sentiment 0.739736320786939"
   ]
  },
  {
   "cell_type": "code",
   "execution_count": 150,
   "id": "af4dacfe-f5a8-4784-836f-dc5984f3dca6",
   "metadata": {},
   "outputs": [
    {
     "data": {
      "text/plain": [
       "array([-1.08897630e-04, -2.81721855e-02,  1.85652117e-03,  6.61892837e-03,\n",
       "        2.28294826e-02, -7.29617817e-03,  5.92762115e-03, -6.32160506e-02,\n",
       "       -1.99084231e-01,  2.27176142e-01,  1.00888650e-02,  9.66611043e-03,\n",
       "        2.04509383e-04, -2.91285678e-02,  9.32251241e-02, -4.90407995e-02,\n",
       "       -1.40740607e-02,  2.99761013e-02, -5.83388322e-02,  2.98172045e-02,\n",
       "       -5.99721142e-02,  4.59409401e-02,  2.65418636e-02])"
      ]
     },
     "execution_count": 150,
     "metadata": {},
     "output_type": "execute_result"
    }
   ],
   "source": [
    "lr_mod.coef_[0]"
   ]
  },
  {
   "cell_type": "code",
   "execution_count": null,
   "id": "0219843f-800b-4c8b-941f-f8a4592f4d1e",
   "metadata": {},
   "outputs": [],
   "source": []
  },
  {
   "cell_type": "code",
   "execution_count": null,
   "id": "af36f0e3-cede-41c6-a13e-bad9d0d510b1",
   "metadata": {},
   "outputs": [],
   "source": []
  },
  {
   "cell_type": "code",
   "execution_count": null,
   "id": "07a7fe38-b101-4cb7-856d-75616a5d7730",
   "metadata": {},
   "outputs": [],
   "source": []
  },
  {
   "cell_type": "code",
   "execution_count": null,
   "id": "aadd2dba-aa5b-442c-8e13-4557825a918a",
   "metadata": {},
   "outputs": [],
   "source": []
  },
  {
   "cell_type": "code",
   "execution_count": 15,
   "id": "bfa9b8d6-8317-4043-8a85-8f01b3bf7842",
   "metadata": {},
   "outputs": [],
   "source": [
    "### random forest"
   ]
  },
  {
   "cell_type": "code",
   "execution_count": 196,
   "id": "9171eb07-e506-48e4-b0db-93ccfd2673b4",
   "metadata": {},
   "outputs": [
    {
     "data": {
      "text/plain": [
       "RandomForestClassifier()"
      ]
     },
     "execution_count": 196,
     "metadata": {},
     "output_type": "execute_result"
    }
   ],
   "source": [
    "rf_model = RandomForestClassifier()\n",
    "rf_model.fit(train_X, train_Y)"
   ]
  },
  {
   "cell_type": "code",
   "execution_count": 197,
   "id": "0f4d5812-f09b-4acd-98ec-4a04db7ccbe4",
   "metadata": {},
   "outputs": [],
   "source": [
    "rf_predictions = rf_model.predict(test_X)\n",
    "rf_accuracy = calculate_accuracy(test_Y, rf_predictions)"
   ]
  },
  {
   "cell_type": "code",
   "execution_count": 198,
   "id": "c19005d4-8fdc-4479-839d-98472923d6f6",
   "metadata": {},
   "outputs": [
    {
     "data": {
      "text/plain": [
       "0.7331784957988934"
      ]
     },
     "execution_count": 198,
     "metadata": {},
     "output_type": "execute_result"
    }
   ],
   "source": [
    "rf_accuracy"
   ]
  },
  {
   "cell_type": "code",
   "execution_count": null,
   "id": "19a15c96-8de0-4512-9767-31d7eb2e349e",
   "metadata": {},
   "outputs": [],
   "source": [
    "# no sentiment 0.7024386911674295"
   ]
  },
  {
   "cell_type": "code",
   "execution_count": null,
   "id": "bf849f3d",
   "metadata": {},
   "outputs": [],
   "source": [
    "# sentiment review_text 0.7247762825329599"
   ]
  },
  {
   "cell_type": "code",
   "execution_count": null,
   "id": "6892416f",
   "metadata": {},
   "outputs": [],
   "source": [
    "# sentiment review_summary 0.7240248650864131"
   ]
  },
  {
   "cell_type": "code",
   "execution_count": null,
   "id": "5686bc79",
   "metadata": {},
   "outputs": [],
   "source": [
    "# both sentiment 0.7331784957988934"
   ]
  },
  {
   "cell_type": "code",
   "execution_count": null,
   "id": "87860ea5-4e82-43a0-97d7-5f79bc4aa9f0",
   "metadata": {},
   "outputs": [],
   "source": [
    "### use grid search to improve random forest classifier"
   ]
  },
  {
   "cell_type": "code",
   "execution_count": null,
   "id": "4d57efef-e0aa-4d67-909c-248d7e46646c",
   "metadata": {},
   "outputs": [],
   "source": [
    "param_grid = {\n",
    "    'n_estimators': [50, 100, 200, 300, 500, 800, 1600],\n",
    "    'random_state': [6, 42, 100, 277, 832, 2022]\n",
    "}\n",
    "\n",
    "# Create the GridSearchCV object\n",
    "grid_search = GridSearchCV(estimator=rf_model, param_grid=param_grid, cv=5, scoring='accuracy')\n",
    "\n",
    "# Perform the grid search on your training data\n",
    "grid_search.fit(train_X, train_Y)\n",
    "\n",
    "best_params = grid_search.best_params_\n",
    "print(\"Best Parameters:\", best_params)"
   ]
  },
  {
   "cell_type": "code",
   "execution_count": null,
   "id": "ed1908f9-5fc7-4255-87fe-0bc73298fca4",
   "metadata": {},
   "outputs": [],
   "source": []
  },
  {
   "cell_type": "code",
   "execution_count": null,
   "id": "80df12d0-f410-4059-82f2-54feeb5355d4",
   "metadata": {},
   "outputs": [],
   "source": []
  },
  {
   "cell_type": "code",
   "execution_count": null,
   "id": "017a582a-0ead-4d44-8f56-850efa15dc72",
   "metadata": {},
   "outputs": [],
   "source": []
  },
  {
   "cell_type": "code",
   "execution_count": null,
   "id": "3e64a540-4892-4072-92dd-8bdc35839b73",
   "metadata": {},
   "outputs": [],
   "source": []
  },
  {
   "cell_type": "code",
   "execution_count": null,
   "id": "8a293195-8afe-4b20-bf6f-ab571560399e",
   "metadata": {},
   "outputs": [],
   "source": []
  },
  {
   "cell_type": "code",
   "execution_count": null,
   "id": "55394802-0f70-470e-8791-f62c1c701bf7",
   "metadata": {},
   "outputs": [],
   "source": []
  },
  {
   "cell_type": "code",
   "execution_count": null,
   "id": "89760595-ccae-4ef2-84a4-ddddb03852d7",
   "metadata": {},
   "outputs": [],
   "source": []
  }
 ],
 "metadata": {
  "kernelspec": {
   "display_name": "Python 3 (ipykernel)",
   "language": "python",
   "name": "python3"
  },
  "language_info": {
   "codemirror_mode": {
    "name": "ipython",
    "version": 3
   },
   "file_extension": ".py",
   "mimetype": "text/x-python",
   "name": "python",
   "nbconvert_exporter": "python",
   "pygments_lexer": "ipython3",
   "version": "3.9.5"
  }
 },
 "nbformat": 4,
 "nbformat_minor": 5
}
