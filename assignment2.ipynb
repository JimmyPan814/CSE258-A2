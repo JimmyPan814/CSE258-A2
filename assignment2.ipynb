{
 "cells": [
  {
   "cell_type": "code",
   "execution_count": 10,
   "id": "98b63cf3-9992-45f7-9508-9d3a2d992909",
   "metadata": {},
   "outputs": [],
   "source": [
    "import json\n",
    "from collections import defaultdict\n",
    "import random\n",
    "import string\n",
    "import numpy as np\n",
    "import operator\n",
    "\n",
    "from sklearn.linear_model import LogisticRegression\n",
    "from sklearn.metrics import roc_auc_score\n",
    "from sklearn.preprocessing import label_binarize\n"
   ]
  },
  {
   "cell_type": "code",
   "execution_count": 11,
   "id": "f8cf24a1-2069-442e-99b4-0a4ab73889bd",
   "metadata": {},
   "outputs": [],
   "source": [
    "data =[]\n",
    "\n",
    "with open('renttherunway_final_data.json', 'r') as file:\n",
    "    for line in file:\n",
    "        line_data = json.loads(line)\n",
    "        data.append(line_data)\n"
   ]
  },
  {
   "cell_type": "code",
   "execution_count": 12,
   "id": "f6fdf79f-13f9-4ae9-b1bc-a6eee7e547f0",
   "metadata": {},
   "outputs": [
    {
     "data": {
      "text/plain": [
       "{'fit': 'fit',\n",
       " 'user_id': '420272',\n",
       " 'bust size': '34d',\n",
       " 'item_id': '2260466',\n",
       " 'weight': '137lbs',\n",
       " 'rating': '10',\n",
       " 'rented for': 'vacation',\n",
       " 'review_text': \"An adorable romper! Belt and zipper were a little hard to navigate in a full day of wear/bathroom use, but that's to be expected. Wish it had pockets, but other than that-- absolutely perfect! I got a million compliments.\",\n",
       " 'body type': 'hourglass',\n",
       " 'review_summary': 'So many compliments!',\n",
       " 'category': 'romper',\n",
       " 'height': '5\\' 8\"',\n",
       " 'size': 14,\n",
       " 'age': '28',\n",
       " 'review_date': 'April 20, 2016'}"
      ]
     },
     "execution_count": 12,
     "metadata": {},
     "output_type": "execute_result"
    }
   ],
   "source": [
    "data[0]"
   ]
  },
  {
   "cell_type": "code",
   "execution_count": null,
   "id": "16f56f01-dd7d-4455-8d39-6952b27fe526",
   "metadata": {},
   "outputs": [],
   "source": []
  },
  {
   "cell_type": "code",
   "execution_count": null,
   "id": "49dae880-a299-4dfa-b82e-6bbdabefd388",
   "metadata": {},
   "outputs": [],
   "source": []
  },
  {
   "cell_type": "code",
   "execution_count": 13,
   "id": "ab80431d-f363-47e0-840a-83e0f022454e",
   "metadata": {},
   "outputs": [],
   "source": [
    "# only use 1 category: dress for fit/notfit prediction"
   ]
  },
  {
   "cell_type": "code",
   "execution_count": 16,
   "id": "26dbb7bc-5a29-4e70-b18e-76bccf758652",
   "metadata": {},
   "outputs": [],
   "source": [
    "dress_data = [d for d in data if d[\"category\"] == \"dress\" ]"
   ]
  },
  {
   "cell_type": "code",
   "execution_count": 17,
   "id": "3f3291e9-f17b-4d27-8cc4-1c06cecfb1c9",
   "metadata": {},
   "outputs": [
    {
     "data": {
      "text/plain": [
       "92884"
      ]
     },
     "execution_count": 17,
     "metadata": {},
     "output_type": "execute_result"
    }
   ],
   "source": [
    "len(dress_data)"
   ]
  },
  {
   "cell_type": "code",
   "execution_count": null,
   "id": "c8529881-da6a-418e-9277-1f5433cb02f8",
   "metadata": {},
   "outputs": [],
   "source": []
  },
  {
   "cell_type": "code",
   "execution_count": null,
   "id": "318193ac-0040-4d15-b1ef-b7a58d8dbb8b",
   "metadata": {},
   "outputs": [],
   "source": []
  },
  {
   "cell_type": "code",
   "execution_count": 18,
   "id": "b3579d18-068e-4e47-8753-c65ddab5e6e2",
   "metadata": {},
   "outputs": [],
   "source": [
    "# train, val, test split\n",
    "random.seed(6)\n",
    "random.shuffle(dress_data)\n",
    "\n",
    "train_data = dress_data[:int(0.8*len(dress_data))]\n",
    "valid_data = dress_data[int(0.8*len(dress_data)):int(0.9*len(dress_data))]\n",
    "test_data = dress_data[int(0.9*len(dress_data)):]\n"
   ]
  },
  {
   "cell_type": "code",
   "execution_count": 19,
   "id": "bdebf662-1d02-4031-87fb-123cee5b03d6",
   "metadata": {},
   "outputs": [
    {
     "data": {
      "text/plain": [
       "(74307, 9288, 9289)"
      ]
     },
     "execution_count": 19,
     "metadata": {},
     "output_type": "execute_result"
    }
   ],
   "source": [
    "len(train_data), len(valid_data), len(test_data)"
   ]
  },
  {
   "cell_type": "code",
   "execution_count": null,
   "id": "6a85e431-80d8-4e9a-a81c-a48e444248f4",
   "metadata": {},
   "outputs": [],
   "source": []
  },
  {
   "cell_type": "code",
   "execution_count": null,
   "id": "7911735c-36cd-4e36-a1f7-61fcf0cad3bd",
   "metadata": {},
   "outputs": [],
   "source": []
  },
  {
   "cell_type": "code",
   "execution_count": null,
   "id": "0d19cb51-1a39-4ef7-b408-cf11d3cf7cc4",
   "metadata": {},
   "outputs": [],
   "source": []
  },
  {
   "cell_type": "code",
   "execution_count": 20,
   "id": "eec9ddc1-5778-4fa4-82f8-4fff804b3cb5",
   "metadata": {},
   "outputs": [],
   "source": [
    "item_data = {}\n",
    "item_index = {}\n",
    "user_index = {}\n",
    "user_data = {}\n",
    "u_index = 0\n",
    "i_index = 0\n",
    "for r in train_data:\n",
    "    if r['item_id'] + '|' + str(r['size']) not in item_data:\n",
    "        item_data[r['item_id'] + '|' + str(r['size'])] = [r]\n",
    "        item_index[r['item_id'] + '|' + str(r['size'])] = i_index\n",
    "        i_index += 1\n",
    "    else:\n",
    "        item_data[r['item_id'] + '|' + str(r['size'])].append(r)\n",
    "        \n",
    "    if r['user_id'] not in user_data:\n",
    "        user_data[r['user_id']] = [r]\n",
    "        user_index[r['user_id']] = u_index\n",
    "        u_index += 1\n",
    "    else:\n",
    "        user_data[r['user_id']].append(r)"
   ]
  },
  {
   "cell_type": "code",
   "execution_count": 21,
   "id": "c4348917-8a16-4626-a4c2-454365327726",
   "metadata": {},
   "outputs": [
    {
     "data": {
      "text/plain": [
       "(49329, 49329, 12678, 12678)"
      ]
     },
     "execution_count": 21,
     "metadata": {},
     "output_type": "execute_result"
    }
   ],
   "source": [
    "len(user_data), len(user_index), len(item_data), len(item_index)"
   ]
  },
  {
   "cell_type": "code",
   "execution_count": null,
   "id": "bffa3dba-63d3-4477-abf2-87c3e0c31543",
   "metadata": {},
   "outputs": [],
   "source": []
  },
  {
   "cell_type": "code",
   "execution_count": null,
   "id": "d41e2b90-796a-4472-9bd5-6650f5ad75d5",
   "metadata": {},
   "outputs": [],
   "source": []
  },
  {
   "cell_type": "code",
   "execution_count": null,
   "id": "506a941b-12c9-44c3-8922-40bf8f5a496c",
   "metadata": {},
   "outputs": [],
   "source": []
  },
  {
   "cell_type": "code",
   "execution_count": null,
   "id": "28b361f3-39e0-45cb-a0dc-bfb4d7e33f5c",
   "metadata": {},
   "outputs": [],
   "source": []
  },
  {
   "cell_type": "code",
   "execution_count": 22,
   "id": "1b1a6d9e-08a9-430b-be69-875272bfbf43",
   "metadata": {},
   "outputs": [],
   "source": []
  },
  {
   "cell_type": "code",
   "execution_count": null,
   "id": "58f8da6c-9845-4671-a296-111d130618bc",
   "metadata": {},
   "outputs": [],
   "source": []
  },
  {
   "cell_type": "code",
   "execution_count": null,
   "id": "10a2cf4d-d30f-4217-a0ec-2b94560565fb",
   "metadata": {},
   "outputs": [],
   "source": []
  },
  {
   "cell_type": "code",
   "execution_count": 37,
   "id": "64e3e9d5-7092-432d-b7e2-62013f4cc19b",
   "metadata": {},
   "outputs": [],
   "source": [
    "def calc_accuracy():\n",
    "    correct_predictions = 0\n",
    "    total_predictions = 0\n",
    "\n",
    "    for r in test_data:\n",
    "        try:\n",
    "            user_idx = user_index[r['user_id']]\n",
    "            item_key = r['item_id'] + '|' + str(r['size'])\n",
    "            if item_key in item_index:\n",
    "                item_idx = item_index[item_key]\n",
    "                s = true_size_cust[user_idx]\n",
    "                t = true_size_item[item_idx]\n",
    "\n",
    "                prediction = predict_fit(s, t)\n",
    "                if prediction == r['fit']:\n",
    "                    correct_predictions += 1\n",
    "\n",
    "                total_predictions += 1\n",
    "        except KeyError:\n",
    "            pass  # Handle missing data or keys\n",
    "\n",
    "    accuracy = correct_predictions / total_predictions if total_predictions > 0 else 0\n",
    "    print('Accuracy:', accuracy, \" Total Predictions: \", total_predictions)"
   ]
  },
  {
   "cell_type": "code",
   "execution_count": null,
   "id": "bd7da69d-e8e9-49b8-abb9-ba859c9bc843",
   "metadata": {},
   "outputs": [],
   "source": []
  },
  {
   "cell_type": "code",
   "execution_count": 25,
   "id": "4d3608e5-4109-4f18-9722-68b24040a845",
   "metadata": {},
   "outputs": [],
   "source": [
    "def predict_fit(user_size, item_size):\n",
    "    if f(user_size, item_size) < b_1:\n",
    "        return 'small'\n",
    "    elif f(user_size, item_size) >= b_1 and f(user_size, item_size) <= b_2:\n",
    "        return 'fit'\n",
    "    else:\n",
    "        return 'large'"
   ]
  },
  {
   "cell_type": "code",
   "execution_count": null,
   "id": "d2cb6341-fbf5-4f4b-ba04-a442ba36cf03",
   "metadata": {},
   "outputs": [],
   "source": []
  },
  {
   "cell_type": "code",
   "execution_count": null,
   "id": "709ec9a5-6be6-4b11-8b29-719671105668",
   "metadata": {},
   "outputs": [],
   "source": []
  },
  {
   "cell_type": "code",
   "execution_count": 26,
   "id": "8bb77347-c479-41f9-ae66-b5d385cf17b5",
   "metadata": {},
   "outputs": [],
   "source": [
    "def f(s,t):\n",
    "    return w*(s-t)"
   ]
  },
  {
   "cell_type": "code",
   "execution_count": 27,
   "id": "3f1466c4-270e-4a42-ac08-6412c11e7bf7",
   "metadata": {},
   "outputs": [],
   "source": [
    "def cal_loss_user(user, cust_size):\n",
    "    loss = 0\n",
    "    for r in user_data[user]:\n",
    "        if 'small' in r['fit']:\n",
    "            loss += max(0, 1 - f(cust_size, true_size_item[item_index[r['item_id'] + '|' + str(r['size'])]]) + b_2)\n",
    "        elif 'fit' in r['fit']:\n",
    "            loss += max(0, 1 + f(cust_size, true_size_item[item_index[r['item_id'] + '|' + str(r['size'])]]) - b_2)\n",
    "            loss += max(0, 1 - f(cust_size, true_size_item[item_index[r['item_id'] + '|' + str(r['size'])]]) + b_1)\n",
    "        elif 'large' in r['fit']:\n",
    "            loss += max(0, 1 + f(cust_size, true_size_item[item_index[r['item_id'] + '|' + str(r['size'])]]) - b_1)\n",
    "    return loss\n",
    "            \n",
    "def cal_loss_item(item, product_size):\n",
    "    loss = 0\n",
    "    for r in item_data[item]:\n",
    "        if 'small' in r['fit']:\n",
    "            loss += max(0, 1 - f(true_size_cust[user_index[r['user_id']]], product_size) + b_2)\n",
    "        elif 'fit' in r['fit']:\n",
    "            loss += max(0, 1 + f(true_size_cust[user_index[r['user_id']]], product_size) - b_2)\n",
    "            loss += max(0, 1 - f(true_size_cust[user_index[r['user_id']]], product_size) + b_1)\n",
    "        elif 'large' in r['fit']:\n",
    "            loss += max(0, 1 + f(true_size_cust[user_index[r['user_id']]], product_size) - b_1)\n",
    "    return loss"
   ]
  },
  {
   "cell_type": "code",
   "execution_count": 28,
   "id": "1838dd4b-e78d-461f-9714-69777e2fc4dd",
   "metadata": {},
   "outputs": [],
   "source": [
    "def total_loss():\n",
    "    loss = 0\n",
    "    for item in item_data:\n",
    "        for r in item_data[item]:\n",
    "            product_size = true_size_item[item_index[r['item_id'] + '|' + str(r['size'])]]\n",
    "            if 'small' in r['fit']:\n",
    "                loss += max(0, 1 - f(true_size_cust[user_index[r['user_id']]], product_size) + b_2)\n",
    "            elif 'fit' in r['fit']:\n",
    "                loss += max(0, 1 + f(true_size_cust[user_index[r['user_id']]], product_size) - b_2)\n",
    "                loss += max(0, 1 - f(true_size_cust[user_index[r['user_id']]], product_size) + b_1)\n",
    "            elif 'large' in r['fit']:\n",
    "                loss += max(0, 1 + f(true_size_cust[user_index[r['user_id']]], product_size) - b_1)\n",
    "    return loss"
   ]
  },
  {
   "cell_type": "code",
   "execution_count": null,
   "id": "de7eb000-7149-4e62-ba21-5ae3b1878518",
   "metadata": {},
   "outputs": [],
   "source": []
  },
  {
   "cell_type": "code",
   "execution_count": null,
   "id": "b125bb0e-f07b-475b-a174-6f1e49c9f9ca",
   "metadata": {},
   "outputs": [],
   "source": []
  },
  {
   "cell_type": "code",
   "execution_count": null,
   "id": "39ba73a0-0c71-4636-af3b-8f8b9133eb76",
   "metadata": {},
   "outputs": [],
   "source": []
  },
  {
   "cell_type": "code",
   "execution_count": null,
   "id": "872b2b24-5fd3-4bbb-b2e2-077c4e687c8a",
   "metadata": {},
   "outputs": [],
   "source": []
  },
  {
   "cell_type": "code",
   "execution_count": null,
   "id": "9a084f1b-6859-4792-b43d-880a96bb685e",
   "metadata": {},
   "outputs": [],
   "source": []
  },
  {
   "cell_type": "code",
   "execution_count": null,
   "id": "a444b2d5-142a-42bd-9cd8-389ddd3f380d",
   "metadata": {},
   "outputs": [],
   "source": []
  },
  {
   "cell_type": "code",
   "execution_count": null,
   "id": "197d74a9-ea7d-4d86-8785-0c1f3f4035a1",
   "metadata": {},
   "outputs": [],
   "source": []
  },
  {
   "cell_type": "code",
   "execution_count": 29,
   "id": "d0fa4329-5850-4401-963f-026e3d81fee5",
   "metadata": {},
   "outputs": [],
   "source": [
    "### training"
   ]
  },
  {
   "cell_type": "code",
   "execution_count": null,
   "id": "8a819e97-fd32-43ba-88b0-3a0467706cb5",
   "metadata": {},
   "outputs": [],
   "source": []
  },
  {
   "cell_type": "code",
   "execution_count": 38,
   "id": "ca13bde7-5c76-4abb-8509-389661791bb2",
   "metadata": {},
   "outputs": [],
   "source": [
    "true_size_item = np.zeros(len(item_data))\n",
    "true_size_cust = np.zeros(len(user_data))\n",
    "w = 1; b_1 = -1; b_2 = 1; lamda = 2\n",
    "\n",
    "for item in item_data:\n",
    "    true_size_item[item_index[item]] = int(item.split('|')[1])"
   ]
  },
  {
   "cell_type": "code",
   "execution_count": null,
   "id": "8eb41ea6-8a4a-4fe3-ab43-09a21344295f",
   "metadata": {},
   "outputs": [],
   "source": []
  },
  {
   "cell_type": "code",
   "execution_count": 39,
   "id": "5166c12c-33d4-483d-b467-6a779f86c31b",
   "metadata": {},
   "outputs": [
    {
     "name": "stdout",
     "output_type": "stream",
     "text": [
      "0 50663.96705474177\n",
      "Accuracy: 0.40741588464179446  Total Predictions:  4369\n",
      "5 49527.74946358187\n",
      "Accuracy: 0.34721904325932706  Total Predictions:  4369\n",
      "10 47268.631635746475\n",
      "Accuracy: 0.34561684596017395  Total Predictions:  4369\n",
      "15 46713.53486077828\n",
      "Accuracy: 0.3394369420920119  Total Predictions:  4369\n",
      "20 47502.421197272306\n",
      "Accuracy: 0.3378347447928588  Total Predictions:  4369\n"
     ]
    },
    {
     "ename": "KeyboardInterrupt",
     "evalue": "",
     "output_type": "error",
     "traceback": [
      "\u001b[1;31m---------------------------------------------------------------------------\u001b[0m",
      "\u001b[1;31mKeyboardInterrupt\u001b[0m                         Traceback (most recent call last)",
      "Cell \u001b[1;32mIn[39], line 13\u001b[0m\n\u001b[0;32m     11\u001b[0m     candidate_sizes\u001b[38;5;241m.\u001b[39mappend(true_size_item[item_index[r[\u001b[38;5;124m'\u001b[39m\u001b[38;5;124mitem_id\u001b[39m\u001b[38;5;124m'\u001b[39m] \u001b[38;5;241m+\u001b[39m \u001b[38;5;124m'\u001b[39m\u001b[38;5;124m|\u001b[39m\u001b[38;5;124m'\u001b[39m \u001b[38;5;241m+\u001b[39m \u001b[38;5;28mstr\u001b[39m(r[\u001b[38;5;124m'\u001b[39m\u001b[38;5;124msize\u001b[39m\u001b[38;5;124m'\u001b[39m])]] \u001b[38;5;241m+\u001b[39m ((b_2\u001b[38;5;241m+\u001b[39m\u001b[38;5;241m1\u001b[39m)\u001b[38;5;241m/\u001b[39mw))\n\u001b[0;32m     12\u001b[0m \u001b[38;5;28;01melif\u001b[39;00m \u001b[38;5;124m'\u001b[39m\u001b[38;5;124mfit\u001b[39m\u001b[38;5;124m'\u001b[39m \u001b[38;5;129;01min\u001b[39;00m r[\u001b[38;5;124m'\u001b[39m\u001b[38;5;124mfit\u001b[39m\u001b[38;5;124m'\u001b[39m]:\n\u001b[1;32m---> 13\u001b[0m     candidate_sizes\u001b[38;5;241m.\u001b[39mappend(true_size_item[item_index[r[\u001b[38;5;124m'\u001b[39m\u001b[38;5;124mitem_id\u001b[39m\u001b[38;5;124m'\u001b[39m] \u001b[38;5;241m+\u001b[39m \u001b[38;5;124m'\u001b[39m\u001b[38;5;124m|\u001b[39m\u001b[38;5;124m'\u001b[39m \u001b[38;5;241m+\u001b[39m \u001b[38;5;28;43mstr\u001b[39;49m\u001b[43m(\u001b[49m\u001b[43mr\u001b[49m\u001b[43m[\u001b[49m\u001b[38;5;124;43m'\u001b[39;49m\u001b[38;5;124;43msize\u001b[39;49m\u001b[38;5;124;43m'\u001b[39;49m\u001b[43m]\u001b[49m\u001b[43m)\u001b[49m]] \u001b[38;5;241m+\u001b[39m ((b_1\u001b[38;5;241m+\u001b[39m\u001b[38;5;241m1\u001b[39m)\u001b[38;5;241m/\u001b[39mw))\n\u001b[0;32m     14\u001b[0m     candidate_sizes\u001b[38;5;241m.\u001b[39mappend(true_size_item[item_index[r[\u001b[38;5;124m'\u001b[39m\u001b[38;5;124mitem_id\u001b[39m\u001b[38;5;124m'\u001b[39m] \u001b[38;5;241m+\u001b[39m \u001b[38;5;124m'\u001b[39m\u001b[38;5;124m|\u001b[39m\u001b[38;5;124m'\u001b[39m \u001b[38;5;241m+\u001b[39m \u001b[38;5;28mstr\u001b[39m(r[\u001b[38;5;124m'\u001b[39m\u001b[38;5;124msize\u001b[39m\u001b[38;5;124m'\u001b[39m])]] \u001b[38;5;241m+\u001b[39m ((b_2\u001b[38;5;241m-\u001b[39m\u001b[38;5;241m1\u001b[39m)\u001b[38;5;241m/\u001b[39mw))\n\u001b[0;32m     15\u001b[0m \u001b[38;5;28;01melif\u001b[39;00m \u001b[38;5;124m'\u001b[39m\u001b[38;5;124mlarge\u001b[39m\u001b[38;5;124m'\u001b[39m \u001b[38;5;129;01min\u001b[39;00m r[\u001b[38;5;124m'\u001b[39m\u001b[38;5;124mfit\u001b[39m\u001b[38;5;124m'\u001b[39m]:\n",
      "\u001b[1;31mKeyboardInterrupt\u001b[0m: "
     ]
    }
   ],
   "source": [
    "num_iter = 300\n",
    "lr = 0.000005\n",
    "\n",
    "for iterr in range(0,num_iter):\n",
    "    \n",
    "    ## Phase 1\n",
    "    for user in user_data:\n",
    "        candidate_sizes = []\n",
    "        for r in user_data[user]:\n",
    "            if 'small' in r['fit']:\n",
    "                candidate_sizes.append(true_size_item[item_index[r['item_id'] + '|' + str(r['size'])]] + ((b_2+1)/w))\n",
    "            elif 'fit' in r['fit']:\n",
    "                candidate_sizes.append(true_size_item[item_index[r['item_id'] + '|' + str(r['size'])]] + ((b_1+1)/w))\n",
    "                candidate_sizes.append(true_size_item[item_index[r['item_id'] + '|' + str(r['size'])]] + ((b_2-1)/w))\n",
    "            elif 'large' in r['fit']:\n",
    "                candidate_sizes.append(true_size_item[item_index[r['item_id'] + '|' + str(r['size'])]] + ((b_1-1)/w))\n",
    "\n",
    "        flag = 0\n",
    "        candidate_sizes = list(set(candidate_sizes))\n",
    "        candidate_sizes = sorted(candidate_sizes)\n",
    "\n",
    "        if len(candidate_sizes) == 1:\n",
    "            true_size_cust[user_index[user]] = candidate_sizes[0]\n",
    "        else:\n",
    "            for s in range(1, len(candidate_sizes)):\n",
    "                slope = (cal_loss_user(user, candidate_sizes[s]) - cal_loss_user(user, candidate_sizes[s-1]))/(candidate_sizes[s] - candidate_sizes[s-1])\n",
    "                if slope>=0:\n",
    "                    flag=1\n",
    "                    true_size_cust[user_index[user]] = candidate_sizes[s-1]\n",
    "                    break\n",
    "\n",
    "            if flag==0:\n",
    "                true_size_cust[user_index[user]] = candidate_sizes[-1]\n",
    "\n",
    "    ## Phase 2\n",
    "    for item in item_data:\n",
    "        candidate_sizes = []\n",
    "        for r in item_data[item]:\n",
    "            if 'small' in r['fit']:\n",
    "                candidate_sizes.append(true_size_cust[user_index[r['user_id']]] - ((b_2+1)/w))\n",
    "            elif 'fit' in r['fit']:\n",
    "                candidate_sizes.append(true_size_cust[user_index[r['user_id']]] - ((b_1+1)/w))\n",
    "                candidate_sizes.append(true_size_cust[user_index[r['user_id']]] - ((b_2-1)/w))\n",
    "            elif 'large' in r['fit']:\n",
    "                candidate_sizes.append(true_size_cust[user_index[r['user_id']]] - ((b_1-1)/w))\n",
    "\n",
    "        flag = 0\n",
    "        candidate_sizes = list(set(candidate_sizes))\n",
    "        candidate_sizes = sorted(candidate_sizes)\n",
    "        if len(candidate_sizes) == 1:\n",
    "            true_size_item[item_index[item]] = candidate_sizes[0]\n",
    "        else:\n",
    "            for s in range(1, len(candidate_sizes)):\n",
    "                slope = (cal_loss_item(item, candidate_sizes[s]) - cal_loss_item(item, candidate_sizes[s-1]))/(candidate_sizes[s] - candidate_sizes[s-1])\n",
    "                if slope>=0:\n",
    "                    flag=1\n",
    "                    true_size_item[item_index[item]] = candidate_sizes[s-1]\n",
    "                    break\n",
    "\n",
    "            if flag==0:\n",
    "                true_size_item[item_index[item]] = candidate_sizes[-1]\n",
    "\n",
    "    ## Phase 3\n",
    "    learning_rate = lr/np.sqrt(iterr+1)\n",
    "    grad_w = 0\n",
    "    grad_b1 = 0\n",
    "    grad_b2 = 0\n",
    "    for r in train_data:\n",
    "        s = true_size_cust[user_index[r['user_id']]]\n",
    "        t = true_size_item[item_index[r['item_id'] + '|' + str(r['size'])]]\n",
    "\n",
    "        if 'small' in r['fit']:\n",
    "            A = 1 - f(s, t) + b_2\n",
    "            if A>0:\n",
    "                grad_w += -1*(s - t)\n",
    "                grad_b2 += 1\n",
    "        elif 'fit' in r['fit']:\n",
    "            B = 1 + f(s, t) - b_2\n",
    "            C = 1 - f(s, t) + b_1\n",
    "            if B>0:\n",
    "                grad_w += (s - t)\n",
    "                grad_b2 += -1\n",
    "            if C>0:\n",
    "                grad_w += -1*(s - t)\n",
    "                grad_b1 += 1\n",
    "        elif 'large' in r['fit']:\n",
    "            D = 1 + f(s, t) - b_1\n",
    "            if D>0:\n",
    "                grad_w += (s - t)\n",
    "                grad_b1 += -1\n",
    "\n",
    "    w -= learning_rate*(grad_w + 2*lamda*w)\n",
    "    b_1 -= learning_rate*(grad_b1 + 2*lamda*b_1)\n",
    "    b_2 -= learning_rate*(grad_b2 + 2*lamda*b_2)\n",
    "    if iterr%5 == 0:\n",
    "        print(iterr, total_loss())\n",
    "        calc_accuracy()"
   ]
  },
  {
   "cell_type": "code",
   "execution_count": null,
   "id": "d10308c4-b0d1-43f1-833c-051b91fa3d47",
   "metadata": {},
   "outputs": [],
   "source": []
  },
  {
   "cell_type": "code",
   "execution_count": null,
   "id": "6826d1a4-3611-4b14-be18-48bb99c06c33",
   "metadata": {},
   "outputs": [],
   "source": []
  },
  {
   "cell_type": "code",
   "execution_count": null,
   "id": "7e656659-9958-4cca-9948-360d4aee3abe",
   "metadata": {},
   "outputs": [],
   "source": []
  },
  {
   "cell_type": "code",
   "execution_count": null,
   "id": "cffd6500-dad8-4106-b2fa-e92540ae9aba",
   "metadata": {},
   "outputs": [],
   "source": []
  },
  {
   "cell_type": "code",
   "execution_count": 97,
   "id": "c5ee2263-7f2d-4250-9ebf-e428e5627ecd",
   "metadata": {},
   "outputs": [
    {
     "name": "stdout",
     "output_type": "stream",
     "text": [
      "Accuracy: 0.48320413436692505\n"
     ]
    }
   ],
   "source": [
    "train_features = []; train_labels = []\n",
    "for r in train_data:\n",
    "    fe = []\n",
    "    fe.append(true_size_cust[user_index[r['user_id']]])\n",
    "    fe.append(true_size_item[item_index[r['item_id'] + '|' + str(r['size'])]])\n",
    "    train_features.append(fe)\n",
    "\n",
    "    if 'small' in r['fit']:\n",
    "        train_labels.append(0)\n",
    "    elif 'fit' in r['fit']:\n",
    "        train_labels.append(1)\n",
    "    elif 'large' in r['fit']:\n",
    "        train_labels.append(2)\n",
    "\n",
    "c = 1\n",
    "clf_1LV = LogisticRegression(fit_intercept=True, multi_class='ovr', C=c)\n",
    "clf_1LV.fit(train_features, train_labels)\n",
    "\n",
    "test_features = []; test_labels = []; test_labels_auc = []\n",
    "for r in valid_data:\n",
    "    fe = []\n",
    "    try:\n",
    "        u = user_index[r['user_id']]\n",
    "        fe.append(true_size_cust[u])\n",
    "    except KeyError:\n",
    "        fe.append(np.mean(true_size_cust))\n",
    "    try:\n",
    "        fe.append(true_size_item[item_index[r['item_id'] + '|' + str(r['size'])]])\n",
    "    except KeyError:\n",
    "        fe.append(np.mean(true_size_item))\n",
    "\n",
    "    test_features.append(fe)\n",
    "    label = [0, 0, 0]\n",
    "    if 'small' in r['fit']:\n",
    "        test_labels.append(0)\n",
    "        label[0] = 1\n",
    "    elif 'fit' in r['fit']:\n",
    "        test_labels.append(1)\n",
    "        label[1] = 1\n",
    "    elif 'large' in r['fit']:\n",
    "        test_labels.append(2)\n",
    "        label[2] = 1\n",
    "    test_labels_auc.append(label)\n",
    "\n",
    "test_labels_auc = np.array(test_labels_auc)\n",
    "\n",
    "predictions = clf_1LV.predict(test_features)\n",
    "correct_predictions = sum(predictions == test_labels)\n",
    "total_predictions = len(test_labels)\n",
    "accuracy = correct_predictions / total_predictions if total_predictions > 0 else 0\n",
    "print('Accuracy:', accuracy)"
   ]
  },
  {
   "cell_type": "code",
   "execution_count": null,
   "id": "7c155bae-6041-4414-9bac-2105ac9fd8dd",
   "metadata": {},
   "outputs": [],
   "source": []
  }
 ],
 "metadata": {
  "kernelspec": {
   "display_name": "Python 3 (ipykernel)",
   "language": "python",
   "name": "python3"
  },
  "language_info": {
   "codemirror_mode": {
    "name": "ipython",
    "version": 3
   },
   "file_extension": ".py",
   "mimetype": "text/x-python",
   "name": "python",
   "nbconvert_exporter": "python",
   "pygments_lexer": "ipython3",
   "version": "3.12.0"
  }
 },
 "nbformat": 4,
 "nbformat_minor": 5
}
