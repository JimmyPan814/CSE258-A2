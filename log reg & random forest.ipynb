{
 "cells": [
  {
   "cell_type": "code",
   "execution_count": 46,
   "id": "23f1af12-0c28-429c-94d5-957171886ac2",
   "metadata": {},
   "outputs": [],
   "source": [
    "import json\n",
    "from collections import defaultdict\n",
    "import random\n",
    "import string\n",
    "import numpy as np\n",
    "import operator\n",
    "import math\n",
    "import re\n",
    "\n",
    "from sklearn.linear_model import LogisticRegression\n",
    "from sklearn.ensemble import RandomForestClassifier\n",
    "from sklearn.model_selection import GridSearchCV\n"
   ]
  },
  {
   "cell_type": "code",
   "execution_count": 2,
   "id": "d35c93bb-83c0-471e-8b7d-8b8ed2c45546",
   "metadata": {},
   "outputs": [],
   "source": [
    "data =[]\n",
    "\n",
    "with open('renttherunway_final_data.json', 'r') as file:\n",
    "    for line in file:\n",
    "        line_data = json.loads(line)\n",
    "        data.append(line_data)\n"
   ]
  },
  {
   "cell_type": "code",
   "execution_count": null,
   "id": "6e5dcb24-e542-4aed-9edc-5af1ea427994",
   "metadata": {},
   "outputs": [],
   "source": []
  },
  {
   "cell_type": "code",
   "execution_count": 21,
   "id": "9901cf53-62ee-4b4a-8d64-0b3742faba88",
   "metadata": {},
   "outputs": [],
   "source": [
    "# drop rows that have incomplete columns\n",
    "clean_data = []\n",
    "for d in data:\n",
    "    if len(d) == 15:\n",
    "        clean_data.append(d)"
   ]
  },
  {
   "cell_type": "code",
   "execution_count": 22,
   "id": "157013d5-012a-4500-9cf3-13a4266e71bb",
   "metadata": {},
   "outputs": [
    {
     "name": "stdout",
     "output_type": "stream",
     "text": [
      "146431\n",
      "{'fit': 'fit', 'user_id': '441940', 'bust size': '34a', 'item_id': '148690', 'weight': '140lbs', 'rating': '10', 'rented for': 'wedding', 'review_text': 'I saw another reviewer with a similar figure to mine - I have a small waist and flat chest but curvier hips/butt and often find dresses to be too loose in the top and too tight at the bottom. Well thank you to all those who review because the 8 fit well and the 6 fit like a glove. I could have worn either but chose the 6 and just wore little inserts instead of a bra. Loved this fun LBD. ', 'body type': 'pear', 'review_summary': 'Perfect fit! I felt amazing in this dress. ', 'category': 'dress', 'height': '5\\' 9\"', 'size': 12, 'age': '29', 'review_date': 'January 20, 2015'}\n"
     ]
    }
   ],
   "source": [
    "print(len(clean_data))\n",
    "print(clean_data[0])"
   ]
  },
  {
   "cell_type": "code",
   "execution_count": 23,
   "id": "b8623cc6-ff02-430d-8b6f-296d398661e3",
   "metadata": {},
   "outputs": [],
   "source": [
    "# train, val, test split\n",
    "random.seed(7)\n",
    "random.shuffle(clean_data)\n",
    "\n",
    "train_data = clean_data[:int(0.8*len(clean_data))]\n",
    "valid_data = clean_data[int(0.8*len(clean_data)):int(0.9*len(clean_data))]\n",
    "test_data = clean_data[int(0.9*len(clean_data)):]"
   ]
  },
  {
   "cell_type": "code",
   "execution_count": null,
   "id": "38ae16da-aab1-4983-b983-18fa8b833119",
   "metadata": {},
   "outputs": [],
   "source": []
  },
  {
   "cell_type": "code",
   "execution_count": 26,
   "id": "a9dd2aa6-8b20-4d5a-a612-781efee193a2",
   "metadata": {},
   "outputs": [],
   "source": [
    "def feature(d):\n",
    "    f = [1]  #offset\n",
    "\n",
    "    size = d['size']\n",
    "    f.append(size)\n",
    "    \n",
    "    height_transform = re.findall(r'\\d+', d['height'])\n",
    "    height = int(height_transform[0]) * 12 + int(height_transform[1])\n",
    "    f.append(height)\n",
    "\n",
    "    weight = int(d['weight'][:-3])\n",
    "    f.append(weight)\n",
    "    \n",
    "    bust = int(d['bust size'][:2])\n",
    "    f.append(bust)\n",
    "    cup = ord(d['bust size'][2])\n",
    "    f.append(cup)\n",
    "\n",
    "    age = int(d['age'])\n",
    "    f.append(age)\n",
    "    \n",
    "    \n",
    "    \n",
    "    # one-hot encoding for rented for and body type\n",
    "    rented_for_dict = {'date':0, 'everyday':1, 'formal affair':2, 'other':3, 'party':4, 'party: cocktail':5, 'vacation':6, 'wedding':7, 'work':8}\n",
    "    f.append(1.0 * (d['rented for'] == 'date'))\n",
    "    f.append(1.0 * (d['rented for'] == 'everyday'))\n",
    "    f.append(1.0 * (d['rented for'] == 'formal affair'))\n",
    "    f.append(1.0 * (d['rented for'] == 'other'))\n",
    "    f.append(1.0 * (d['rented for'] == 'party'))\n",
    "    f.append(1.0 * (d['rented for'] == 'party: cocktail'))\n",
    "    f.append(1.0 * (d['rented for'] == 'vacation'))\n",
    "    f.append(1.0 * (d['rented for'] == 'wedding'))\n",
    "    f.append(1.0 * (d['rented for'] == 'work'))\n",
    "    \n",
    "    body_type_dict = {'apple':0, 'athletic':1, 'full bust':2, 'hourglass':3, 'pear':4, 'petite':5, 'straight & narrow':6}\n",
    "    f.append(1.0 * (d[\"body type\"] == 'apple'))\n",
    "    f.append(1.0 * (d[\"body type\"] == 'athletic'))\n",
    "    f.append(1.0 * (d[\"body type\"] == 'full bust'))\n",
    "    f.append(1.0 * (d[\"body type\"] == 'hourglass'))\n",
    "    f.append(1.0 * (d[\"body type\"] == 'pear'))\n",
    "    f.append(1.0 * (d[\"body type\"] == 'petite'))\n",
    "    f.append(1.0 * (d[\"body type\"] == 'straight & narrow'))\n",
    "    \n",
    "\n",
    "    ### add more features?\n",
    "    ### processed review_text prediction results?\n",
    "    ### e.g. f.append(sentiment_model.predict(d[\"review_text\"]))\n",
    "\n",
    "    \n",
    "    # label: change 3 categories to \n",
    "    if d['fit'] == 'fit':\n",
    "        label = 1\n",
    "    else:\n",
    "        label = 0      # not fit\n",
    "\n",
    "    return f, label\n",
    "\n",
    "    "
   ]
  },
  {
   "cell_type": "code",
   "execution_count": 27,
   "id": "6ba9782d-28e3-4986-a480-09e48d85d959",
   "metadata": {},
   "outputs": [],
   "source": [
    "train_X = []\n",
    "train_Y = []\n",
    "for d in train_data:\n",
    "    x, y = feature(d)\n",
    "    train_X.append(x)\n",
    "    train_Y.append(y)\n",
    "\n",
    "valid_X = []\n",
    "valid_Y = []\n",
    "for d in valid_data:\n",
    "    x, y = feature(d)\n",
    "    valid_X.append(x)\n",
    "    valid_Y.append(y)\n",
    "\n",
    "\n",
    "test_X = []\n",
    "test_Y = []\n",
    "for d in test_data:\n",
    "    x, y = feature(d)\n",
    "    test_X.append(x)\n",
    "    test_Y.append(y)\n"
   ]
  },
  {
   "cell_type": "code",
   "execution_count": null,
   "id": "3d0ed9ea-875f-469d-8e39-49b7c34b8850",
   "metadata": {},
   "outputs": [],
   "source": []
  },
  {
   "cell_type": "code",
   "execution_count": null,
   "id": "42b4b98c-35d3-430e-bfa1-c307db877d90",
   "metadata": {},
   "outputs": [],
   "source": []
  },
  {
   "cell_type": "code",
   "execution_count": null,
   "id": "f69e9772-656f-4655-8162-f195c6839890",
   "metadata": {},
   "outputs": [],
   "source": []
  },
  {
   "cell_type": "code",
   "execution_count": null,
   "id": "66c3a385-9247-4e1e-8a00-c449518030ad",
   "metadata": {},
   "outputs": [],
   "source": []
  },
  {
   "cell_type": "code",
   "execution_count": null,
   "id": "6c63105c-8d59-4acf-871b-a4b149cb186f",
   "metadata": {},
   "outputs": [],
   "source": []
  },
  {
   "cell_type": "code",
   "execution_count": null,
   "id": "a0f657a6-b388-4070-9cae-df611d537d7a",
   "metadata": {},
   "outputs": [],
   "source": []
  },
  {
   "cell_type": "code",
   "execution_count": 33,
   "id": "4b3d7b9a-5fcd-4712-ab30-7f9a482909bf",
   "metadata": {},
   "outputs": [],
   "source": [
    "def calculate_accuracy(y, pred):\n",
    "    return sum([a==b for a, b in zip(y, pred)]) / len(y)"
   ]
  },
  {
   "cell_type": "code",
   "execution_count": null,
   "id": "56b93544-f12e-4077-8f8e-e4c049fae8b0",
   "metadata": {},
   "outputs": [],
   "source": []
  },
  {
   "cell_type": "code",
   "execution_count": null,
   "id": "a9868717-3a25-49b7-92bf-82cc5b8638d9",
   "metadata": {},
   "outputs": [],
   "source": []
  },
  {
   "cell_type": "code",
   "execution_count": null,
   "id": "cf7436cc-3797-4481-8379-ed80c659ee1b",
   "metadata": {},
   "outputs": [],
   "source": []
  },
  {
   "cell_type": "code",
   "execution_count": null,
   "id": "63d22d81-9b51-4714-bf6f-c6b1f0bafdf1",
   "metadata": {},
   "outputs": [],
   "source": []
  },
  {
   "cell_type": "code",
   "execution_count": null,
   "id": "6c6893d0-7b01-4be9-b5fc-b03c74507324",
   "metadata": {},
   "outputs": [],
   "source": []
  },
  {
   "cell_type": "code",
   "execution_count": null,
   "id": "17117232-aa8c-491a-8b64-200e7be4396e",
   "metadata": {},
   "outputs": [],
   "source": [
    "### logistic regression"
   ]
  },
  {
   "cell_type": "code",
   "execution_count": 31,
   "id": "5a49cbea-7ff3-4816-87c0-0778010b3e54",
   "metadata": {},
   "outputs": [
    {
     "name": "stderr",
     "output_type": "stream",
     "text": [
      "C:\\Users\\ivery\\pythonlab\\Lib\\site-packages\\sklearn\\linear_model\\_logistic.py:460: ConvergenceWarning: lbfgs failed to converge (status=1):\n",
      "STOP: TOTAL NO. of ITERATIONS REACHED LIMIT.\n",
      "\n",
      "Increase the number of iterations (max_iter) or scale the data as shown in:\n",
      "    https://scikit-learn.org/stable/modules/preprocessing.html\n",
      "Please also refer to the documentation for alternative solver options:\n",
      "    https://scikit-learn.org/stable/modules/linear_model.html#logistic-regression\n",
      "  n_iter_i = _check_optimize_result(\n"
     ]
    },
    {
     "data": {
      "text/html": [
       "<style>#sk-container-id-1 {color: black;}#sk-container-id-1 pre{padding: 0;}#sk-container-id-1 div.sk-toggleable {background-color: white;}#sk-container-id-1 label.sk-toggleable__label {cursor: pointer;display: block;width: 100%;margin-bottom: 0;padding: 0.3em;box-sizing: border-box;text-align: center;}#sk-container-id-1 label.sk-toggleable__label-arrow:before {content: \"▸\";float: left;margin-right: 0.25em;color: #696969;}#sk-container-id-1 label.sk-toggleable__label-arrow:hover:before {color: black;}#sk-container-id-1 div.sk-estimator:hover label.sk-toggleable__label-arrow:before {color: black;}#sk-container-id-1 div.sk-toggleable__content {max-height: 0;max-width: 0;overflow: hidden;text-align: left;background-color: #f0f8ff;}#sk-container-id-1 div.sk-toggleable__content pre {margin: 0.2em;color: black;border-radius: 0.25em;background-color: #f0f8ff;}#sk-container-id-1 input.sk-toggleable__control:checked~div.sk-toggleable__content {max-height: 200px;max-width: 100%;overflow: auto;}#sk-container-id-1 input.sk-toggleable__control:checked~label.sk-toggleable__label-arrow:before {content: \"▾\";}#sk-container-id-1 div.sk-estimator input.sk-toggleable__control:checked~label.sk-toggleable__label {background-color: #d4ebff;}#sk-container-id-1 div.sk-label input.sk-toggleable__control:checked~label.sk-toggleable__label {background-color: #d4ebff;}#sk-container-id-1 input.sk-hidden--visually {border: 0;clip: rect(1px 1px 1px 1px);clip: rect(1px, 1px, 1px, 1px);height: 1px;margin: -1px;overflow: hidden;padding: 0;position: absolute;width: 1px;}#sk-container-id-1 div.sk-estimator {font-family: monospace;background-color: #f0f8ff;border: 1px dotted black;border-radius: 0.25em;box-sizing: border-box;margin-bottom: 0.5em;}#sk-container-id-1 div.sk-estimator:hover {background-color: #d4ebff;}#sk-container-id-1 div.sk-parallel-item::after {content: \"\";width: 100%;border-bottom: 1px solid gray;flex-grow: 1;}#sk-container-id-1 div.sk-label:hover label.sk-toggleable__label {background-color: #d4ebff;}#sk-container-id-1 div.sk-serial::before {content: \"\";position: absolute;border-left: 1px solid gray;box-sizing: border-box;top: 0;bottom: 0;left: 50%;z-index: 0;}#sk-container-id-1 div.sk-serial {display: flex;flex-direction: column;align-items: center;background-color: white;padding-right: 0.2em;padding-left: 0.2em;position: relative;}#sk-container-id-1 div.sk-item {position: relative;z-index: 1;}#sk-container-id-1 div.sk-parallel {display: flex;align-items: stretch;justify-content: center;background-color: white;position: relative;}#sk-container-id-1 div.sk-item::before, #sk-container-id-1 div.sk-parallel-item::before {content: \"\";position: absolute;border-left: 1px solid gray;box-sizing: border-box;top: 0;bottom: 0;left: 50%;z-index: -1;}#sk-container-id-1 div.sk-parallel-item {display: flex;flex-direction: column;z-index: 1;position: relative;background-color: white;}#sk-container-id-1 div.sk-parallel-item:first-child::after {align-self: flex-end;width: 50%;}#sk-container-id-1 div.sk-parallel-item:last-child::after {align-self: flex-start;width: 50%;}#sk-container-id-1 div.sk-parallel-item:only-child::after {width: 0;}#sk-container-id-1 div.sk-dashed-wrapped {border: 1px dashed gray;margin: 0 0.4em 0.5em 0.4em;box-sizing: border-box;padding-bottom: 0.4em;background-color: white;}#sk-container-id-1 div.sk-label label {font-family: monospace;font-weight: bold;display: inline-block;line-height: 1.2em;}#sk-container-id-1 div.sk-label-container {text-align: center;}#sk-container-id-1 div.sk-container {/* jupyter's `normalize.less` sets `[hidden] { display: none; }` but bootstrap.min.css set `[hidden] { display: none !important; }` so we also need the `!important` here to be able to override the default hidden behavior on the sphinx rendered scikit-learn.org. See: https://github.com/scikit-learn/scikit-learn/issues/21755 */display: inline-block !important;position: relative;}#sk-container-id-1 div.sk-text-repr-fallback {display: none;}</style><div id=\"sk-container-id-1\" class=\"sk-top-container\"><div class=\"sk-text-repr-fallback\"><pre>LogisticRegression(C=1)</pre><b>In a Jupyter environment, please rerun this cell to show the HTML representation or trust the notebook. <br />On GitHub, the HTML representation is unable to render, please try loading this page with nbviewer.org.</b></div><div class=\"sk-container\" hidden><div class=\"sk-item\"><div class=\"sk-estimator sk-toggleable\"><input class=\"sk-toggleable__control sk-hidden--visually\" id=\"sk-estimator-id-1\" type=\"checkbox\" checked><label for=\"sk-estimator-id-1\" class=\"sk-toggleable__label sk-toggleable__label-arrow\">LogisticRegression</label><div class=\"sk-toggleable__content\"><pre>LogisticRegression(C=1)</pre></div></div></div></div></div>"
      ],
      "text/plain": [
       "LogisticRegression(C=1)"
      ]
     },
     "execution_count": 31,
     "metadata": {},
     "output_type": "execute_result"
    }
   ],
   "source": [
    "lr_mod = LogisticRegression(C=1)\n",
    "lr_mod.fit(train_X, train_Y)\n",
    "\n"
   ]
  },
  {
   "cell_type": "code",
   "execution_count": 34,
   "id": "4c228759-905f-4b40-acae-74a1994bae48",
   "metadata": {},
   "outputs": [],
   "source": [
    "lr_predictions = lr_mod.predict(test_X)\n",
    "lr_accuracy = calculate_accuracy(test_Y, lr_predictions)\n"
   ]
  },
  {
   "cell_type": "code",
   "execution_count": 35,
   "id": "c61e054c-1893-4c41-be78-95c87812e95b",
   "metadata": {},
   "outputs": [
    {
     "data": {
      "text/plain": [
       "0.7379814258399344"
      ]
     },
     "execution_count": 35,
     "metadata": {},
     "output_type": "execute_result"
    }
   ],
   "source": [
    "lr_accuracy"
   ]
  },
  {
   "cell_type": "code",
   "execution_count": 39,
   "id": "af4dacfe-f5a8-4784-836f-dc5984f3dca6",
   "metadata": {},
   "outputs": [
    {
     "data": {
      "text/plain": [
       "array([-1.45257755e-04, -2.79333135e-02,  2.13074835e-03,  6.40706699e-03,\n",
       "        2.22749188e-02, -6.74038629e-03,  5.30430154e-03, -4.60227278e-02,\n",
       "       -1.51773507e-01,  2.24701150e-01, -4.75935813e-03, -5.24035712e-02,\n",
       "        1.01261420e-04, -2.55906835e-02,  8.89504166e-02, -3.33482377e-02,\n",
       "       -5.95857380e-03,  2.65305562e-02, -4.38648734e-02,  4.27063498e-02,\n",
       "       -4.64063228e-02,  1.98587816e-02,  6.98882464e-03])"
      ]
     },
     "execution_count": 39,
     "metadata": {},
     "output_type": "execute_result"
    }
   ],
   "source": [
    "lr_mod.coef_[0]"
   ]
  },
  {
   "cell_type": "code",
   "execution_count": null,
   "id": "0219843f-800b-4c8b-941f-f8a4592f4d1e",
   "metadata": {},
   "outputs": [],
   "source": []
  },
  {
   "cell_type": "code",
   "execution_count": null,
   "id": "af36f0e3-cede-41c6-a13e-bad9d0d510b1",
   "metadata": {},
   "outputs": [],
   "source": []
  },
  {
   "cell_type": "code",
   "execution_count": null,
   "id": "07a7fe38-b101-4cb7-856d-75616a5d7730",
   "metadata": {},
   "outputs": [],
   "source": []
  },
  {
   "cell_type": "code",
   "execution_count": null,
   "id": "aadd2dba-aa5b-442c-8e13-4557825a918a",
   "metadata": {},
   "outputs": [],
   "source": []
  },
  {
   "cell_type": "code",
   "execution_count": null,
   "id": "bfa9b8d6-8317-4043-8a85-8f01b3bf7842",
   "metadata": {},
   "outputs": [],
   "source": [
    "### random forest"
   ]
  },
  {
   "cell_type": "code",
   "execution_count": 42,
   "id": "9171eb07-e506-48e4-b0db-93ccfd2673b4",
   "metadata": {},
   "outputs": [
    {
     "data": {
      "text/html": [
       "<style>#sk-container-id-2 {color: black;}#sk-container-id-2 pre{padding: 0;}#sk-container-id-2 div.sk-toggleable {background-color: white;}#sk-container-id-2 label.sk-toggleable__label {cursor: pointer;display: block;width: 100%;margin-bottom: 0;padding: 0.3em;box-sizing: border-box;text-align: center;}#sk-container-id-2 label.sk-toggleable__label-arrow:before {content: \"▸\";float: left;margin-right: 0.25em;color: #696969;}#sk-container-id-2 label.sk-toggleable__label-arrow:hover:before {color: black;}#sk-container-id-2 div.sk-estimator:hover label.sk-toggleable__label-arrow:before {color: black;}#sk-container-id-2 div.sk-toggleable__content {max-height: 0;max-width: 0;overflow: hidden;text-align: left;background-color: #f0f8ff;}#sk-container-id-2 div.sk-toggleable__content pre {margin: 0.2em;color: black;border-radius: 0.25em;background-color: #f0f8ff;}#sk-container-id-2 input.sk-toggleable__control:checked~div.sk-toggleable__content {max-height: 200px;max-width: 100%;overflow: auto;}#sk-container-id-2 input.sk-toggleable__control:checked~label.sk-toggleable__label-arrow:before {content: \"▾\";}#sk-container-id-2 div.sk-estimator input.sk-toggleable__control:checked~label.sk-toggleable__label {background-color: #d4ebff;}#sk-container-id-2 div.sk-label input.sk-toggleable__control:checked~label.sk-toggleable__label {background-color: #d4ebff;}#sk-container-id-2 input.sk-hidden--visually {border: 0;clip: rect(1px 1px 1px 1px);clip: rect(1px, 1px, 1px, 1px);height: 1px;margin: -1px;overflow: hidden;padding: 0;position: absolute;width: 1px;}#sk-container-id-2 div.sk-estimator {font-family: monospace;background-color: #f0f8ff;border: 1px dotted black;border-radius: 0.25em;box-sizing: border-box;margin-bottom: 0.5em;}#sk-container-id-2 div.sk-estimator:hover {background-color: #d4ebff;}#sk-container-id-2 div.sk-parallel-item::after {content: \"\";width: 100%;border-bottom: 1px solid gray;flex-grow: 1;}#sk-container-id-2 div.sk-label:hover label.sk-toggleable__label {background-color: #d4ebff;}#sk-container-id-2 div.sk-serial::before {content: \"\";position: absolute;border-left: 1px solid gray;box-sizing: border-box;top: 0;bottom: 0;left: 50%;z-index: 0;}#sk-container-id-2 div.sk-serial {display: flex;flex-direction: column;align-items: center;background-color: white;padding-right: 0.2em;padding-left: 0.2em;position: relative;}#sk-container-id-2 div.sk-item {position: relative;z-index: 1;}#sk-container-id-2 div.sk-parallel {display: flex;align-items: stretch;justify-content: center;background-color: white;position: relative;}#sk-container-id-2 div.sk-item::before, #sk-container-id-2 div.sk-parallel-item::before {content: \"\";position: absolute;border-left: 1px solid gray;box-sizing: border-box;top: 0;bottom: 0;left: 50%;z-index: -1;}#sk-container-id-2 div.sk-parallel-item {display: flex;flex-direction: column;z-index: 1;position: relative;background-color: white;}#sk-container-id-2 div.sk-parallel-item:first-child::after {align-self: flex-end;width: 50%;}#sk-container-id-2 div.sk-parallel-item:last-child::after {align-self: flex-start;width: 50%;}#sk-container-id-2 div.sk-parallel-item:only-child::after {width: 0;}#sk-container-id-2 div.sk-dashed-wrapped {border: 1px dashed gray;margin: 0 0.4em 0.5em 0.4em;box-sizing: border-box;padding-bottom: 0.4em;background-color: white;}#sk-container-id-2 div.sk-label label {font-family: monospace;font-weight: bold;display: inline-block;line-height: 1.2em;}#sk-container-id-2 div.sk-label-container {text-align: center;}#sk-container-id-2 div.sk-container {/* jupyter's `normalize.less` sets `[hidden] { display: none; }` but bootstrap.min.css set `[hidden] { display: none !important; }` so we also need the `!important` here to be able to override the default hidden behavior on the sphinx rendered scikit-learn.org. See: https://github.com/scikit-learn/scikit-learn/issues/21755 */display: inline-block !important;position: relative;}#sk-container-id-2 div.sk-text-repr-fallback {display: none;}</style><div id=\"sk-container-id-2\" class=\"sk-top-container\"><div class=\"sk-text-repr-fallback\"><pre>RandomForestClassifier()</pre><b>In a Jupyter environment, please rerun this cell to show the HTML representation or trust the notebook. <br />On GitHub, the HTML representation is unable to render, please try loading this page with nbviewer.org.</b></div><div class=\"sk-container\" hidden><div class=\"sk-item\"><div class=\"sk-estimator sk-toggleable\"><input class=\"sk-toggleable__control sk-hidden--visually\" id=\"sk-estimator-id-2\" type=\"checkbox\" checked><label for=\"sk-estimator-id-2\" class=\"sk-toggleable__label sk-toggleable__label-arrow\">RandomForestClassifier</label><div class=\"sk-toggleable__content\"><pre>RandomForestClassifier()</pre></div></div></div></div></div>"
      ],
      "text/plain": [
       "RandomForestClassifier()"
      ]
     },
     "execution_count": 42,
     "metadata": {},
     "output_type": "execute_result"
    }
   ],
   "source": [
    "rf_model = RandomForestClassifier()\n",
    "rf_model.fit(train_X, train_Y)"
   ]
  },
  {
   "cell_type": "code",
   "execution_count": 43,
   "id": "0f4d5812-f09b-4acd-98ec-4a04db7ccbe4",
   "metadata": {},
   "outputs": [],
   "source": [
    "rf_predictions = rf_model.predict(test_X)\n",
    "rf_accuracy = calculate_accuracy(test_Y, rf_predictions)"
   ]
  },
  {
   "cell_type": "code",
   "execution_count": 44,
   "id": "c19005d4-8fdc-4479-839d-98472923d6f6",
   "metadata": {},
   "outputs": [
    {
     "data": {
      "text/plain": [
       "0.7026085768915596"
      ]
     },
     "execution_count": 44,
     "metadata": {},
     "output_type": "execute_result"
    }
   ],
   "source": [
    "rf_accuracy"
   ]
  },
  {
   "cell_type": "code",
   "execution_count": null,
   "id": "19a15c96-8de0-4512-9767-31d7eb2e349e",
   "metadata": {},
   "outputs": [],
   "source": []
  },
  {
   "cell_type": "code",
   "execution_count": null,
   "id": "87860ea5-4e82-43a0-97d7-5f79bc4aa9f0",
   "metadata": {},
   "outputs": [],
   "source": [
    "### use grid search to improve random forest classifier"
   ]
  },
  {
   "cell_type": "code",
   "execution_count": null,
   "id": "4d57efef-e0aa-4d67-909c-248d7e46646c",
   "metadata": {},
   "outputs": [],
   "source": [
    "param_grid = {\n",
    "    'n_estimators': [50, 100, 200, 300, 500, 800, 1600],\n",
    "    'random_state': [6, 42, 100, 277, 832, 2022]\n",
    "}\n",
    "\n",
    "# Create the GridSearchCV object\n",
    "grid_search = GridSearchCV(estimator=rf_model, param_grid=param_grid, cv=5, scoring='accuracy')\n",
    "\n",
    "# Perform the grid search on your training data\n",
    "grid_search.fit(train_X, train_Y)\n",
    "\n",
    "best_params = grid_search.best_params_\n",
    "print(\"Best Parameters:\", best_params)"
   ]
  },
  {
   "cell_type": "code",
   "execution_count": null,
   "id": "ed1908f9-5fc7-4255-87fe-0bc73298fca4",
   "metadata": {},
   "outputs": [],
   "source": []
  },
  {
   "cell_type": "code",
   "execution_count": null,
   "id": "80df12d0-f410-4059-82f2-54feeb5355d4",
   "metadata": {},
   "outputs": [],
   "source": []
  },
  {
   "cell_type": "code",
   "execution_count": null,
   "id": "017a582a-0ead-4d44-8f56-850efa15dc72",
   "metadata": {},
   "outputs": [],
   "source": []
  },
  {
   "cell_type": "code",
   "execution_count": null,
   "id": "3e64a540-4892-4072-92dd-8bdc35839b73",
   "metadata": {},
   "outputs": [],
   "source": []
  },
  {
   "cell_type": "code",
   "execution_count": null,
   "id": "8a293195-8afe-4b20-bf6f-ab571560399e",
   "metadata": {},
   "outputs": [],
   "source": []
  },
  {
   "cell_type": "code",
   "execution_count": null,
   "id": "55394802-0f70-470e-8791-f62c1c701bf7",
   "metadata": {},
   "outputs": [],
   "source": []
  },
  {
   "cell_type": "code",
   "execution_count": null,
   "id": "89760595-ccae-4ef2-84a4-ddddb03852d7",
   "metadata": {},
   "outputs": [],
   "source": []
  }
 ],
 "metadata": {
  "kernelspec": {
   "display_name": "Python 3 (ipykernel)",
   "language": "python",
   "name": "python3"
  },
  "language_info": {
   "codemirror_mode": {
    "name": "ipython",
    "version": 3
   },
   "file_extension": ".py",
   "mimetype": "text/x-python",
   "name": "python",
   "nbconvert_exporter": "python",
   "pygments_lexer": "ipython3",
   "version": "3.12.0"
  }
 },
 "nbformat": 4,
 "nbformat_minor": 5
}
